{
 "cells": [
  {
   "cell_type": "code",
   "execution_count": 1,
   "metadata": {},
   "outputs": [],
   "source": [
    "from database_utils import DatabaseConnector\n",
    "from data_extraction import DataExtraction\n",
    "from data_cleaning import DataCleaning\n",
    "import pandas as pd\n",
    "\n",
    "database_connector = DatabaseConnector()\n",
    "data_extractor = DataExtraction()\n",
    "data_cleaner = DataCleaning()"
   ]
  },
  {
   "cell_type": "code",
   "execution_count": null,
   "metadata": {},
   "outputs": [],
   "source": [
    "database_connector.list_db_tables()"
   ]
  },
  {
   "cell_type": "code",
   "execution_count": null,
   "metadata": {},
   "outputs": [],
   "source": [
    "# Reads a database table as \"df\" and saves it as a csv\n",
    "df = data_extractor.read_rds_table(\"legacy_users\")\n",
    "df.to_csv(\"users_df.csv\")"
   ]
  },
  {
   "cell_type": "code",
   "execution_count": null,
   "metadata": {},
   "outputs": [],
   "source": [
    "users_df = pd.read_csv(\"users_df.csv\")"
   ]
  },
  {
   "cell_type": "code",
   "execution_count": null,
   "metadata": {},
   "outputs": [],
   "source": [
    "cleaned_df = users_df\n",
    "cleaned_df = data_cleaner.clean_rows_by_length_condition(cleaned_df, \"country_code\", 3)\n",
    "cleaned_df = data_cleaner.clean_null(cleaned_df)\n",
    "cleaned_df = data_cleaner.clean_replace_value_in_column(cleaned_df, \"country_code\", \"GGB\", \"GB\")\n",
    "cleaned_df = data_cleaner.clean_convert_date_column(cleaned_df, \"date_of_birth\")\n",
    "cleaned_df = data_cleaner.clean_convert_date_column(cleaned_df, \"join_date\")\n",
    "\n",
    "cleaned_df.info()"
   ]
  },
  {
   "cell_type": "code",
   "execution_count": null,
   "metadata": {},
   "outputs": [],
   "source": [
    "# Overwrites the cleaned_df.csv witht the current cleared_df \n",
    "cleaned_df.to_csv(\"cleaned_df.csv\")"
   ]
  },
  {
   "cell_type": "code",
   "execution_count": null,
   "metadata": {},
   "outputs": [],
   "source": [
    "cleaned_df.count()"
   ]
  },
  {
   "cell_type": "code",
   "execution_count": null,
   "metadata": {},
   "outputs": [],
   "source": [
    "users_df.info()"
   ]
  },
  {
   "cell_type": "code",
   "execution_count": 2,
   "metadata": {},
   "outputs": [
    {
     "ename": "JVMNotFoundException",
     "evalue": "No JVM shared library file (jvm.dll) found. Try setting up the JAVA_HOME environment variable properly.",
     "output_type": "error",
     "traceback": [
      "\u001b[1;31m---------------------------------------------------------------------------\u001b[0m",
      "\u001b[1;31mJVMNotFoundException\u001b[0m                      Traceback (most recent call last)",
      "\u001b[1;32mc:\\Users\\Solen\\Adam's Ai-Core Files\\multinational-retail-data-centralisation103\\Test.ipynb Cell 9\u001b[0m line \u001b[0;36m1\n\u001b[1;32m----> <a href='vscode-notebook-cell:/c%3A/Users/Solen/Adam%27s%20Ai-Core%20Files/multinational-retail-data-centralisation103/Test.ipynb#X12sZmlsZQ%3D%3D?line=0'>1</a>\u001b[0m card_details_df \u001b[39m=\u001b[39m data_extractor\u001b[39m.\u001b[39;49mretrieve_pdf_data()\n\u001b[0;32m      <a href='vscode-notebook-cell:/c%3A/Users/Solen/Adam%27s%20Ai-Core%20Files/multinational-retail-data-centralisation103/Test.ipynb#X12sZmlsZQ%3D%3D?line=1'>2</a>\u001b[0m card_details_df\u001b[39m.\u001b[39mto_csv(\u001b[39m\"\u001b[39m\u001b[39mcard_details.csv\u001b[39m\u001b[39m\"\u001b[39m)\n",
      "File \u001b[1;32mc:\\Users\\Solen\\Adam's Ai-Core Files\\multinational-retail-data-centralisation103\\data_extraction.py:16\u001b[0m, in \u001b[0;36mDataExtraction.retrieve_pdf_data\u001b[1;34m(self, path_to_pdf)\u001b[0m\n\u001b[0;32m     15\u001b[0m \u001b[39mdef\u001b[39;00m \u001b[39mretrieve_pdf_data\u001b[39m(\u001b[39mself\u001b[39m, path_to_pdf\u001b[39m=\u001b[39m\u001b[39m\"\u001b[39m\u001b[39mhttps://data-handling-public.s3.eu-west-1.amazonaws.com/card_details.pdf\u001b[39m\u001b[39m\"\u001b[39m):\n\u001b[1;32m---> 16\u001b[0m     df \u001b[39m=\u001b[39m tabula\u001b[39m.\u001b[39;49mread_pdf(path_to_pdf)\n\u001b[0;32m     17\u001b[0m     \u001b[39mreturn\u001b[39;00m df\n",
      "File \u001b[1;32mc:\\Users\\Solen\\Miniconda3\\Lib\\site-packages\\tabula\\io.py:407\u001b[0m, in \u001b[0;36mread_pdf\u001b[1;34m(input_path, output_format, encoding, java_options, pandas_options, multiple_tables, user_agent, use_raw_url, pages, guess, area, relative_area, lattice, stream, password, silent, columns, relative_columns, format, batch, output_path, force_subprocess, options)\u001b[0m\n\u001b[0;32m    404\u001b[0m     \u001b[39mraise\u001b[39;00m \u001b[39mValueError\u001b[39;00m(\u001b[39mf\u001b[39m\u001b[39m\"\u001b[39m\u001b[39m{\u001b[39;00mpath\u001b[39m}\u001b[39;00m\u001b[39m is empty. Check the file, or download it manually.\u001b[39m\u001b[39m\"\u001b[39m)\n\u001b[0;32m    406\u001b[0m \u001b[39mtry\u001b[39;00m:\n\u001b[1;32m--> 407\u001b[0m     output \u001b[39m=\u001b[39m _run(\n\u001b[0;32m    408\u001b[0m         java_options,\n\u001b[0;32m    409\u001b[0m         tabula_options,\n\u001b[0;32m    410\u001b[0m         path,\n\u001b[0;32m    411\u001b[0m         encoding\u001b[39m=\u001b[39;49mencoding,\n\u001b[0;32m    412\u001b[0m         force_subprocess\u001b[39m=\u001b[39;49mforce_subprocess,\n\u001b[0;32m    413\u001b[0m     )\n\u001b[0;32m    414\u001b[0m \u001b[39mfinally\u001b[39;00m:\n\u001b[0;32m    415\u001b[0m     \u001b[39mif\u001b[39;00m temporary:\n",
      "File \u001b[1;32mc:\\Users\\Solen\\Miniconda3\\Lib\\site-packages\\tabula\\io.py:72\u001b[0m, in \u001b[0;36m_run\u001b[1;34m(java_options, options, path, encoding, force_subprocess)\u001b[0m\n\u001b[0;32m     67\u001b[0m     _tabula_vm \u001b[39m=\u001b[39m SubprocessTabula(\n\u001b[0;32m     68\u001b[0m         java_options\u001b[39m=\u001b[39mjava_options, silent\u001b[39m=\u001b[39moptions\u001b[39m.\u001b[39msilent, encoding\u001b[39m=\u001b[39mencoding\n\u001b[0;32m     69\u001b[0m     )\n\u001b[0;32m     71\u001b[0m \u001b[39mif\u001b[39;00m \u001b[39mnot\u001b[39;00m _tabula_vm:\n\u001b[1;32m---> 72\u001b[0m     _tabula_vm \u001b[39m=\u001b[39m TabulaVm(java_options\u001b[39m=\u001b[39;49mjava_options, silent\u001b[39m=\u001b[39;49moptions\u001b[39m.\u001b[39;49msilent)\n\u001b[0;32m     73\u001b[0m     \u001b[39mif\u001b[39;00m _tabula_vm \u001b[39mand\u001b[39;00m \u001b[39mnot\u001b[39;00m _tabula_vm\u001b[39m.\u001b[39mtabula:\n\u001b[0;32m     74\u001b[0m         _tabula_vm \u001b[39m=\u001b[39m SubprocessTabula(\n\u001b[0;32m     75\u001b[0m             java_options\u001b[39m=\u001b[39mjava_options, silent\u001b[39m=\u001b[39moptions\u001b[39m.\u001b[39msilent, encoding\u001b[39m=\u001b[39mencoding\n\u001b[0;32m     76\u001b[0m         )\n",
      "File \u001b[1;32mc:\\Users\\Solen\\Miniconda3\\Lib\\site-packages\\tabula\\backend.py:44\u001b[0m, in \u001b[0;36mTabulaVm.__init__\u001b[1;34m(self, java_options, silent)\u001b[0m\n\u001b[0;32m     35\u001b[0m     \u001b[39mif\u001b[39;00m silent:\n\u001b[0;32m     36\u001b[0m         java_options\u001b[39m.\u001b[39mextend(\n\u001b[0;32m     37\u001b[0m             (\n\u001b[0;32m     38\u001b[0m                 \u001b[39m\"\u001b[39m\u001b[39m-Dorg.slf4j.simpleLogger.defaultLogLevel=off\u001b[39m\u001b[39m\"\u001b[39m,\n\u001b[1;32m   (...)\u001b[0m\n\u001b[0;32m     41\u001b[0m             )\n\u001b[0;32m     42\u001b[0m         )\n\u001b[1;32m---> 44\u001b[0m     jpype\u001b[39m.\u001b[39;49mstartJVM(\u001b[39m*\u001b[39;49mjava_options, convertStrings\u001b[39m=\u001b[39;49m\u001b[39mFalse\u001b[39;49;00m)\n\u001b[0;32m     46\u001b[0m \u001b[39mtry\u001b[39;00m:\n\u001b[0;32m     47\u001b[0m     \u001b[39mimport\u001b[39;00m \u001b[39mjava\u001b[39;00m\u001b[39m.\u001b[39;00m\u001b[39mlang\u001b[39;00m \u001b[39mas\u001b[39;00m \u001b[39mlang\u001b[39;00m\n",
      "File \u001b[1;32mc:\\Users\\Solen\\Miniconda3\\Lib\\site-packages\\jpype\\_core.py:184\u001b[0m, in \u001b[0;36mstartJVM\u001b[1;34m(*args, **kwargs)\u001b[0m\n\u001b[0;32m    182\u001b[0m     jvmpath \u001b[39m=\u001b[39m kwargs\u001b[39m.\u001b[39mpop(\u001b[39m'\u001b[39m\u001b[39mjvmpath\u001b[39m\u001b[39m'\u001b[39m)\n\u001b[0;32m    183\u001b[0m \u001b[39mif\u001b[39;00m \u001b[39mnot\u001b[39;00m jvmpath:\n\u001b[1;32m--> 184\u001b[0m     jvmpath \u001b[39m=\u001b[39m getDefaultJVMPath()\n\u001b[0;32m    186\u001b[0m \u001b[39m# Classpath handling\u001b[39;00m\n\u001b[0;32m    187\u001b[0m \u001b[39mif\u001b[39;00m _hasClassPath(args):\n\u001b[0;32m    188\u001b[0m     \u001b[39m# Old style, specified in the arguments\u001b[39;00m\n",
      "File \u001b[1;32mc:\\Users\\Solen\\Miniconda3\\Lib\\site-packages\\jpype\\_jvmfinder.py:74\u001b[0m, in \u001b[0;36mgetDefaultJVMPath\u001b[1;34m()\u001b[0m\n\u001b[0;32m     72\u001b[0m \u001b[39melse\u001b[39;00m:\n\u001b[0;32m     73\u001b[0m     finder \u001b[39m=\u001b[39m LinuxJVMFinder()\n\u001b[1;32m---> 74\u001b[0m \u001b[39mreturn\u001b[39;00m finder\u001b[39m.\u001b[39;49mget_jvm_path()\n",
      "File \u001b[1;32mc:\\Users\\Solen\\Miniconda3\\Lib\\site-packages\\jpype\\_jvmfinder.py:212\u001b[0m, in \u001b[0;36mJVMFinder.get_jvm_path\u001b[1;34m(self)\u001b[0m\n\u001b[0;32m    210\u001b[0m \u001b[39mif\u001b[39;00m jvm_notsupport_ext \u001b[39mis\u001b[39;00m \u001b[39mnot\u001b[39;00m \u001b[39mNone\u001b[39;00m:\n\u001b[0;32m    211\u001b[0m     \u001b[39mraise\u001b[39;00m jvm_notsupport_ext\n\u001b[1;32m--> 212\u001b[0m \u001b[39mraise\u001b[39;00m JVMNotFoundException(\u001b[39m\"\u001b[39m\u001b[39mNo JVM shared library file (\u001b[39m\u001b[39m{0}\u001b[39;00m\u001b[39m) \u001b[39m\u001b[39m\"\u001b[39m\n\u001b[0;32m    213\u001b[0m                            \u001b[39m\"\u001b[39m\u001b[39mfound. Try setting up the JAVA_HOME \u001b[39m\u001b[39m\"\u001b[39m\n\u001b[0;32m    214\u001b[0m                            \u001b[39m\"\u001b[39m\u001b[39menvironment variable properly.\u001b[39m\u001b[39m\"\u001b[39m\n\u001b[0;32m    215\u001b[0m                            \u001b[39m.\u001b[39mformat(\u001b[39mself\u001b[39m\u001b[39m.\u001b[39m_libfile))\n",
      "\u001b[1;31mJVMNotFoundException\u001b[0m: No JVM shared library file (jvm.dll) found. Try setting up the JAVA_HOME environment variable properly."
     ]
    }
   ],
   "source": [
    "card_details_df = data_extractor.retrieve_pdf_data()\n",
    "card_details_df.to_csv(\"card_details.csv\")"
   ]
  }
 ],
 "metadata": {
  "kernelspec": {
   "display_name": "base",
   "language": "python",
   "name": "python3"
  },
  "language_info": {
   "codemirror_mode": {
    "name": "ipython",
    "version": 3
   },
   "file_extension": ".py",
   "mimetype": "text/x-python",
   "name": "python",
   "nbconvert_exporter": "python",
   "pygments_lexer": "ipython3",
   "version": "3.11.5"
  }
 },
 "nbformat": 4,
 "nbformat_minor": 2
}
