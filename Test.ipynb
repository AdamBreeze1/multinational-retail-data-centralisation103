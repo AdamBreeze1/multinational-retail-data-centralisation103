{
 "cells": [
  {
   "cell_type": "code",
   "execution_count": 58,
   "metadata": {},
   "outputs": [],
   "source": [
    "from database_utils import DatabaseConnector\n",
    "from data_extraction import DataExtraction\n",
    "from data_cleaning import DataCleaning\n",
    "import pandas as pd\n",
    "\n",
    "database_connector = DatabaseConnector()\n",
    "data_extractor = DataExtraction()\n",
    "data_cleaner = DataCleaning()"
   ]
  },
  {
   "cell_type": "markdown",
   "metadata": {},
   "source": [
    "# User Data Cleaning"
   ]
  },
  {
   "cell_type": "code",
   "execution_count": 59,
   "metadata": {},
   "outputs": [
    {
     "name": "stdout",
     "output_type": "stream",
     "text": [
      "['legacy_store_details', 'legacy_users', 'orders_table']\n"
     ]
    }
   ],
   "source": [
    "database_connector.list_db_tables()"
   ]
  },
  {
   "cell_type": "markdown",
   "metadata": {},
   "source": [
    "## Legacy Store Details Cleaning"
   ]
  },
  {
   "cell_type": "code",
   "execution_count": 60,
   "metadata": {},
   "outputs": [],
   "source": [
    "# Reads a database table as \"legacy_store_details_df\" and saves it as a csv\n",
    "legacy_store_details_df = data_extractor.read_rds_table(\"legacy_store_details\")\n",
    "legacy_store_details_df.to_csv(\"original_dfs/original_legacy_store_details_df.csv\")"
   ]
  },
  {
   "cell_type": "code",
   "execution_count": 61,
   "metadata": {},
   "outputs": [
    {
     "name": "stdout",
     "output_type": "stream",
     "text": [
      "<class 'pandas.core.frame.DataFrame'>\n",
      "Index: 451 entries, 1 to 450\n",
      "Data columns (total 11 columns):\n",
      " #   Column         Non-Null Count  Dtype \n",
      "---  ------         --------------  ----- \n",
      " 0   address        451 non-null    object\n",
      " 1   longitude      451 non-null    object\n",
      " 2   lat            11 non-null     object\n",
      " 3   locality       451 non-null    object\n",
      " 4   store_code     451 non-null    object\n",
      " 5   staff_numbers  451 non-null    object\n",
      " 6   opening_date   451 non-null    object\n",
      " 7   store_type     451 non-null    object\n",
      " 8   latitude       450 non-null    object\n",
      " 9   country_code   451 non-null    object\n",
      " 10  continent      451 non-null    object\n",
      "dtypes: object(11)\n",
      "memory usage: 42.3+ KB\n"
     ]
    },
    {
     "data": {
      "text/plain": [
       "Index(['address', 'longitude', 'lat', 'locality', 'store_code',\n",
       "       'staff_numbers', 'opening_date', 'store_type', 'latitude',\n",
       "       'country_code', 'continent'],\n",
       "      dtype='object')"
      ]
     },
     "execution_count": 61,
     "metadata": {},
     "output_type": "execute_result"
    }
   ],
   "source": [
    "# Prints details of the \"legacy_store_details_df\"\n",
    "legacy_store_details_df.info()\n",
    "legacy_store_details_df.columns"
   ]
  },
  {
   "cell_type": "code",
   "execution_count": 62,
   "metadata": {},
   "outputs": [
    {
     "name": "stdout",
     "output_type": "stream",
     "text": [
      "<class 'pandas.core.frame.DataFrame'>\n",
      "Index: 440 entries, 1 to 450\n",
      "Data columns (total 10 columns):\n",
      " #   Column         Non-Null Count  Dtype         \n",
      "---  ------         --------------  -----         \n",
      " 0   address        440 non-null    object        \n",
      " 1   longitude      440 non-null    object        \n",
      " 2   latitude       440 non-null    object        \n",
      " 3   locality       440 non-null    object        \n",
      " 4   store_code     440 non-null    object        \n",
      " 5   staff_numbers  440 non-null    object        \n",
      " 6   opening_date   440 non-null    datetime64[ns]\n",
      " 7   store_type     440 non-null    object        \n",
      " 8   country_code   440 non-null    object        \n",
      " 9   continent      440 non-null    object        \n",
      "dtypes: datetime64[ns](1), object(9)\n",
      "memory usage: 37.8+ KB\n"
     ]
    }
   ],
   "source": [
    "# Cleans the legacy_store_details_data\n",
    "\n",
    "cleaned_legacy_store_details_df = legacy_store_details_df\n",
    "cleaned_legacy_store_details_df = cleaned_legacy_store_details_df.drop(\"lat\", axis=1)\n",
    "cleaned_legacy_store_details_df = data_cleaner.clean_null(cleaned_legacy_store_details_df)\n",
    "cleaned_legacy_store_details_df = cleaned_legacy_store_details_df[['address', 'longitude', 'latitude', 'locality', 'store_code', 'staff_numbers', 'opening_date', 'store_type', 'country_code', 'continent']]\n",
    "cleaned_legacy_store_details_df = data_cleaner.clean_rows_by_length_condition(cleaned_legacy_store_details_df, \"country_code\", 3)\n",
    "cleaned_legacy_store_details_df = data_cleaner.clean_convert_date_column(cleaned_legacy_store_details_df, \"opening_date\")\n",
    "\n",
    "cleaned_legacy_store_details_df.info()\n",
    "cleaned_legacy_store_details_df.to_csv(\"cleaned_dfs/cleaned_legacy_store_details_df.csv\")"
   ]
  },
  {
   "cell_type": "markdown",
   "metadata": {},
   "source": [
    "## Legacy Users Cleaning"
   ]
  },
  {
   "cell_type": "code",
   "execution_count": 63,
   "metadata": {},
   "outputs": [],
   "source": [
    "# Reads a database table as \"legacy_users_df\" and saves it as a csv\n",
    "legacy_users_df = data_extractor.read_rds_table(\"legacy_users\")\n",
    "legacy_users_df.to_csv(\"original_dfs/original_legacy_users_df.csv\")"
   ]
  },
  {
   "cell_type": "code",
   "execution_count": 64,
   "metadata": {},
   "outputs": [
    {
     "name": "stdout",
     "output_type": "stream",
     "text": [
      "<class 'pandas.core.frame.DataFrame'>\n",
      "Index: 15320 entries, 0 to 1249\n",
      "Data columns (total 11 columns):\n",
      " #   Column         Non-Null Count  Dtype \n",
      "---  ------         --------------  ----- \n",
      " 0   first_name     15320 non-null  object\n",
      " 1   last_name      15320 non-null  object\n",
      " 2   date_of_birth  15320 non-null  object\n",
      " 3   company        15320 non-null  object\n",
      " 4   email_address  15320 non-null  object\n",
      " 5   address        15320 non-null  object\n",
      " 6   country        15320 non-null  object\n",
      " 7   country_code   15320 non-null  object\n",
      " 8   phone_number   15320 non-null  object\n",
      " 9   join_date      15320 non-null  object\n",
      " 10  user_uuid      15320 non-null  object\n",
      "dtypes: object(11)\n",
      "memory usage: 1.4+ MB\n"
     ]
    }
   ],
   "source": [
    "legacy_users_df.info()"
   ]
  },
  {
   "cell_type": "code",
   "execution_count": 65,
   "metadata": {},
   "outputs": [
    {
     "name": "stdout",
     "output_type": "stream",
     "text": [
      "<class 'pandas.core.frame.DataFrame'>\n",
      "Index: 15284 entries, 0 to 1249\n",
      "Data columns (total 11 columns):\n",
      " #   Column         Non-Null Count  Dtype         \n",
      "---  ------         --------------  -----         \n",
      " 0   first_name     15284 non-null  object        \n",
      " 1   last_name      15284 non-null  object        \n",
      " 2   date_of_birth  15284 non-null  datetime64[ns]\n",
      " 3   company        15284 non-null  object        \n",
      " 4   email_address  15284 non-null  object        \n",
      " 5   address        15284 non-null  object        \n",
      " 6   country        15284 non-null  object        \n",
      " 7   country_code   15284 non-null  object        \n",
      " 8   phone_number   15284 non-null  object        \n",
      " 9   join_date      15284 non-null  datetime64[ns]\n",
      " 10  user_uuid      15284 non-null  object        \n",
      "dtypes: datetime64[ns](2), object(9)\n",
      "memory usage: 1.4+ MB\n"
     ]
    }
   ],
   "source": [
    "# Cleans the legacy_users_data\n",
    "\n",
    "cleaned_legacy_users_df = legacy_users_df\n",
    "cleaned_legacy_users_df = data_cleaner.clean_rows_by_length_condition(cleaned_legacy_users_df, \"country_code\", 3)\n",
    "cleaned_legacy_users_df = data_cleaner.clean_null(cleaned_legacy_users_df)\n",
    "cleaned_legacy_users_df = data_cleaner.clean_replace_value_in_column(cleaned_legacy_users_df, \"country_code\", \"GGB\", \"GB\")\n",
    "cleaned_legacy_users_df = data_cleaner.clean_convert_date_column(cleaned_legacy_users_df, \"date_of_birth\")\n",
    "cleaned_legacy_users_df = data_cleaner.clean_convert_date_column(cleaned_legacy_users_df, \"join_date\")\n",
    "# cleaned_legacy_users_df = cleaned_legacy_users_df.reset_index(drop=True)    # Resets the index\n",
    "\n",
    "cleaned_legacy_users_df.info()\n",
    "\n",
    "# Overwrites the cleaned_df.csv witht the current cleared_df \n",
    "cleaned_legacy_users_df.to_csv(\"cleaned_dfs/cleaned_legacy_users_df.csv\")"
   ]
  },
  {
   "cell_type": "markdown",
   "metadata": {},
   "source": [
    "## Orders Table Cleaning"
   ]
  },
  {
   "cell_type": "code",
   "execution_count": 66,
   "metadata": {},
   "outputs": [],
   "source": [
    "# Reads a database table as \"orders_table_df\" and saves it as a csv\n",
    "orders_table_df = data_extractor.read_rds_table(\"orders_table\")\n",
    "orders_table_df.to_csv(\"original_dfs/original_orders_table_df.csv\")"
   ]
  },
  {
   "cell_type": "code",
   "execution_count": 67,
   "metadata": {},
   "outputs": [
    {
     "name": "stdout",
     "output_type": "stream",
     "text": [
      "<class 'pandas.core.frame.DataFrame'>\n",
      "Index: 120123 entries, 0 to 118804\n",
      "Data columns (total 10 columns):\n",
      " #   Column            Non-Null Count   Dtype \n",
      "---  ------            --------------   ----- \n",
      " 0   level_0           120123 non-null  int64 \n",
      " 1   date_uuid         120123 non-null  object\n",
      " 2   first_name        15284 non-null   object\n",
      " 3   last_name         15284 non-null   object\n",
      " 4   user_uuid         120123 non-null  object\n",
      " 5   card_number       120123 non-null  int64 \n",
      " 6   store_code        120123 non-null  object\n",
      " 7   product_code      120123 non-null  object\n",
      " 8   1                 0 non-null       object\n",
      " 9   product_quantity  120123 non-null  int64 \n",
      "dtypes: int64(3), object(7)\n",
      "memory usage: 10.1+ MB\n"
     ]
    },
    {
     "data": {
      "text/plain": [
       "Index(['level_0', 'date_uuid', 'first_name', 'last_name', 'user_uuid',\n",
       "       'card_number', 'store_code', 'product_code', '1', 'product_quantity'],\n",
       "      dtype='object')"
      ]
     },
     "execution_count": 67,
     "metadata": {},
     "output_type": "execute_result"
    }
   ],
   "source": [
    "# Prints details of the \"orders_table_df\"\n",
    "orders_table_df.info()\n",
    "orders_table_df.columns"
   ]
  },
  {
   "cell_type": "code",
   "execution_count": 68,
   "metadata": {},
   "outputs": [
    {
     "name": "stdout",
     "output_type": "stream",
     "text": [
      "<class 'pandas.core.frame.DataFrame'>\n",
      "Index: 120123 entries, 0 to 118804\n",
      "Data columns (total 8 columns):\n",
      " #   Column            Non-Null Count   Dtype \n",
      "---  ------            --------------   ----- \n",
      " 0   date_uuid         120123 non-null  object\n",
      " 1   first_name        15284 non-null   object\n",
      " 2   last_name         15284 non-null   object\n",
      " 3   user_uuid         120123 non-null  object\n",
      " 4   card_number       120123 non-null  int64 \n",
      " 5   store_code        120123 non-null  object\n",
      " 6   product_code      120123 non-null  object\n",
      " 7   product_quantity  120123 non-null  int64 \n",
      "dtypes: int64(2), object(6)\n",
      "memory usage: 8.2+ MB\n"
     ]
    }
   ],
   "source": [
    "# Cleans the orders_table_df\n",
    "\n",
    "cleaned_orders_table_df = orders_table_df\n",
    "cleaned_orders_table_df = cleaned_orders_table_df.drop([\"level_0\", \"1\"], axis=1)\n",
    "\n",
    "cleaned_orders_table_df.info()\n",
    "\n",
    "# Overwrites the cleaned_df.csv witht the current cleared_df \n",
    "cleaned_orders_table_df.to_csv(\"cleaned_dfs/cleaned_orders_table_df.csv\")"
   ]
  },
  {
   "cell_type": "markdown",
   "metadata": {},
   "source": [
    "# Card Details Cleaning"
   ]
  },
  {
   "cell_type": "code",
   "execution_count": 69,
   "metadata": {},
   "outputs": [],
   "source": [
    "# Retrieve data from pdf and save to pdf\n",
    "\n",
    "card_details_df = data_extractor.retrieve_pdf_data()\n",
    "card_details_df.to_csv(\"original_dfs/original_card_details.csv\")"
   ]
  },
  {
   "cell_type": "code",
   "execution_count": 72,
   "metadata": {},
   "outputs": [
    {
     "name": "stdout",
     "output_type": "stream",
     "text": [
      "<class 'pandas.core.frame.DataFrame'>\n",
      "RangeIndex: 15309 entries, 0 to 15308\n",
      "Data columns (total 4 columns):\n",
      " #   Column                  Non-Null Count  Dtype \n",
      "---  ------                  --------------  ----- \n",
      " 0   card_number             15309 non-null  object\n",
      " 1   expiry_date             15309 non-null  object\n",
      " 2   card_provider           15309 non-null  object\n",
      " 3   date_payment_confirmed  15309 non-null  object\n",
      "dtypes: object(4)\n",
      "memory usage: 478.5+ KB\n"
     ]
    },
    {
     "data": {
      "text/plain": [
       "Index(['card_number', 'expiry_date', 'card_provider',\n",
       "       'date_payment_confirmed'],\n",
       "      dtype='object')"
      ]
     },
     "execution_count": 72,
     "metadata": {},
     "output_type": "execute_result"
    }
   ],
   "source": [
    "# Prints details of the \"card_details_df\"\n",
    "card_details_df.info()\n",
    "card_details_df.columns\n"
   ]
  }
 ],
 "metadata": {
  "kernelspec": {
   "display_name": "base",
   "language": "python",
   "name": "python3"
  },
  "language_info": {
   "codemirror_mode": {
    "name": "ipython",
    "version": 3
   },
   "file_extension": ".py",
   "mimetype": "text/x-python",
   "name": "python",
   "nbconvert_exporter": "python",
   "pygments_lexer": "ipython3",
   "version": "3.11.5"
  }
 },
 "nbformat": 4,
 "nbformat_minor": 2
}
