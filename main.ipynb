{
 "cells": [
  {
   "cell_type": "code",
   "execution_count": 1,
   "metadata": {},
   "outputs": [],
   "source": [
    "from database_utils import DatabaseConnector\n",
    "from data_extraction import DataExtraction\n",
    "from data_cleaning import DataCleaning\n",
    "import pandas as pd\n",
    "\n",
    "database_connector = DatabaseConnector()\n",
    "data_extractor = DataExtraction()\n",
    "data_cleaner = DataCleaning()"
   ]
  },
  {
   "cell_type": "markdown",
   "metadata": {},
   "source": [
    "# User Data Cleaning"
   ]
  },
  {
   "cell_type": "code",
   "execution_count": null,
   "metadata": {},
   "outputs": [],
   "source": [
    "database_connector.list_db_tables()"
   ]
  },
  {
   "cell_type": "markdown",
   "metadata": {},
   "source": [
    "## Legacy Store Details Cleaning"
   ]
  },
  {
   "cell_type": "code",
   "execution_count": null,
   "metadata": {},
   "outputs": [],
   "source": [
    "# Reads a database table as \"legacy_store_details_df\" and saves it as a csv\n",
    "legacy_store_details_df = data_extractor.read_rds_table(\"legacy_store_details\")\n",
    "legacy_store_details_df.to_csv(\"original_dfs/original_legacy_store_details_df.csv\")"
   ]
  },
  {
   "cell_type": "code",
   "execution_count": null,
   "metadata": {},
   "outputs": [],
   "source": [
    "# Prints details of the \"legacy_store_details_df\"\n",
    "legacy_store_details_df.info()\n",
    "legacy_store_details_df.columns"
   ]
  },
  {
   "cell_type": "code",
   "execution_count": null,
   "metadata": {},
   "outputs": [],
   "source": [
    "# Cleans the legacy_store_details_data\n",
    "\n",
    "cleaned_legacy_store_details_df = legacy_store_details_df\n",
    "cleaned_legacy_store_details_df = cleaned_legacy_store_details_df.drop(\"lat\", axis=1)\n",
    "cleaned_legacy_store_details_df = data_cleaner.clean_null(cleaned_legacy_store_details_df)\n",
    "cleaned_legacy_store_details_df = cleaned_legacy_store_details_df[['address', 'longitude', 'latitude', 'locality', 'store_code', 'staff_numbers', 'opening_date', 'store_type', 'country_code', 'continent']]\n",
    "cleaned_legacy_store_details_df = data_cleaner.clean_rows_by_length_condition(cleaned_legacy_store_details_df, \"country_code\", 3)\n",
    "cleaned_legacy_store_details_df = data_cleaner.clean_convert_date_column(cleaned_legacy_store_details_df, \"opening_date\")\n",
    "\n",
    "cleaned_legacy_store_details_df.info()\n",
    "cleaned_legacy_store_details_df.to_csv(\"cleaned_dfs/cleaned_legacy_store_details_df.csv\")"
   ]
  },
  {
   "cell_type": "markdown",
   "metadata": {},
   "source": [
    "## Legacy Users Cleaning"
   ]
  },
  {
   "cell_type": "code",
   "execution_count": null,
   "metadata": {},
   "outputs": [],
   "source": [
    "# Reads a database table as \"legacy_users_df\" and saves it as a csv\n",
    "legacy_users_df = data_extractor.read_rds_table(\"legacy_users\")\n",
    "legacy_users_df.to_csv(\"original_dfs/original_legacy_users_df.csv\")"
   ]
  },
  {
   "cell_type": "code",
   "execution_count": null,
   "metadata": {},
   "outputs": [],
   "source": [
    "legacy_users_df.info()"
   ]
  },
  {
   "cell_type": "code",
   "execution_count": null,
   "metadata": {},
   "outputs": [],
   "source": [
    "# Cleans the legacy_users_data\n",
    "\n",
    "cleaned_legacy_users_df = legacy_users_df\n",
    "cleaned_legacy_users_df = data_cleaner.clean_rows_by_length_condition(cleaned_legacy_users_df, \"country_code\", 3)\n",
    "cleaned_legacy_users_df = data_cleaner.clean_null(cleaned_legacy_users_df)\n",
    "cleaned_legacy_users_df = data_cleaner.clean_replace_value_in_column(cleaned_legacy_users_df, \"country_code\", \"GGB\", \"GB\")\n",
    "cleaned_legacy_users_df = data_cleaner.clean_convert_date_column(cleaned_legacy_users_df, \"date_of_birth\")\n",
    "cleaned_legacy_users_df = data_cleaner.clean_convert_date_column(cleaned_legacy_users_df, \"join_date\")\n",
    "# cleaned_legacy_users_df = cleaned_legacy_users_df.reset_index(drop=True)    # Resets the index\n",
    "\n",
    "cleaned_legacy_users_df.info()\n",
    "\n",
    "# Overwrites the cleaned_df.csv witht the current cleared_df \n",
    "cleaned_legacy_users_df.to_csv(\"cleaned_dfs/cleaned_legacy_users_df.csv\")"
   ]
  },
  {
   "cell_type": "markdown",
   "metadata": {},
   "source": [
    "## Orders Table Cleaning"
   ]
  },
  {
   "cell_type": "code",
   "execution_count": null,
   "metadata": {},
   "outputs": [],
   "source": [
    "# Reads a database table as \"orders_table_df\" and saves it as a csv\n",
    "orders_table_df = data_extractor.read_rds_table(\"orders_table\")\n",
    "orders_table_df.to_csv(\"original_dfs/original_orders_table_df.csv\")"
   ]
  },
  {
   "cell_type": "code",
   "execution_count": null,
   "metadata": {},
   "outputs": [],
   "source": [
    "# Prints details of the \"orders_table_df\"\n",
    "orders_table_df.info()\n",
    "orders_table_df.columns"
   ]
  },
  {
   "cell_type": "code",
   "execution_count": null,
   "metadata": {},
   "outputs": [],
   "source": [
    "# Cleans the orders_table_df\n",
    "\n",
    "cleaned_orders_table_df = orders_table_df\n",
    "cleaned_orders_table_df = cleaned_orders_table_df.drop([\"level_0\", \"1\"], axis=1)\n",
    "\n",
    "cleaned_orders_table_df.info()\n",
    "\n",
    "# Overwrites the cleaned_df.csv witht the current cleared_df \n",
    "cleaned_orders_table_df.to_csv(\"cleaned_dfs/cleaned_orders_table_df.csv\")"
   ]
  },
  {
   "cell_type": "markdown",
   "metadata": {},
   "source": [
    "# Card Details Cleaning"
   ]
  },
  {
   "cell_type": "code",
   "execution_count": null,
   "metadata": {},
   "outputs": [],
   "source": [
    "# Retrieve data from pdf and save to pdf\n",
    "\n",
    "card_details_df = data_extractor.retrieve_pdf_data()\n",
    "card_details_df.to_csv(\"original_dfs/original_card_details.csv\")"
   ]
  },
  {
   "cell_type": "code",
   "execution_count": null,
   "metadata": {},
   "outputs": [],
   "source": [
    "# Prints details of the \"card_details_df\"\n",
    "card_details_df.info()\n",
    "card_details_df.columns\n"
   ]
  },
  {
   "cell_type": "code",
   "execution_count": null,
   "metadata": {},
   "outputs": [],
   "source": [
    "# Cleans the \"card_details_df\"\n",
    "\n",
    "cleaned_card_details_df = card_details_df\n",
    "cleaned_card_details_df = data_cleaner.clean_null(cleaned_card_details_df)\n",
    "cleaned_card_details_df = data_cleaner.clean_rows_by_length_condition(cleaned_card_details_df, \"expiry_date\", 5)\n",
    "cleaned_card_details_df['expiry_date'] = pd.to_datetime(cleaned_card_details_df['expiry_date'], format='%m/%y')\n",
    "cleaned_card_details_df = data_cleaner.clean_convert_date_column(cleaned_card_details_df, \"date_payment_confirmed\")\n",
    "\n",
    "cleaned_card_details_df.info()\n",
    "\n",
    "# Overwrites the cleaned_df.csv with the current cleared_df \n",
    "cleaned_card_details_df.to_csv(\"cleaned_dfs/cleaned_card_details_df.csv\")"
   ]
  },
  {
   "cell_type": "markdown",
   "metadata": {},
   "source": [
    "## Store Details Cleaning"
   ]
  },
  {
   "cell_type": "code",
   "execution_count": null,
   "metadata": {},
   "outputs": [],
   "source": [
    "data_extractor.list_number_of_stores()\n"
   ]
  },
  {
   "cell_type": "code",
   "execution_count": 10,
   "metadata": {},
   "outputs": [],
   "source": [
    "store_data = data_extractor.retrieve_stores_data()\n",
    "\n",
    "store_data_json = store_data.json()\n",
    "\n",
    "store_data_df = pd.json_normalize(store_data_json)\n",
    "# store_data_df = pd.DataFrame.from_dict(store_data_json, orient='columns')\n",
    "\n",
    "# print(type(df))"
   ]
  },
  {
   "cell_type": "code",
   "execution_count": 17,
   "metadata": {},
   "outputs": [
    {
     "ename": "NotImplementedError",
     "evalue": "",
     "output_type": "error",
     "traceback": [
      "\u001b[1;31m---------------------------------------------------------------------------\u001b[0m",
      "\u001b[1;31mNotImplementedError\u001b[0m                       Traceback (most recent call last)",
      "\u001b[1;32mc:\\Users\\Solen\\Adam's Ai-Core Files\\multinational-retail-data-centralisation103\\main.ipynb Cell 23\u001b[0m line \u001b[0;36m1\n\u001b[0;32m     <a href='vscode-notebook-cell:/c%3A/Users/Solen/Adam%27s%20Ai-Core%20Files/multinational-retail-data-centralisation103/main.ipynb#X31sZmlsZQ%3D%3D?line=9'>10</a>\u001b[0m         store_data_df_2 \u001b[39m=\u001b[39m pd\u001b[39m.\u001b[39mjson_normalize(store_data_json_2)\n\u001b[0;32m     <a href='vscode-notebook-cell:/c%3A/Users/Solen/Adam%27s%20Ai-Core%20Files/multinational-retail-data-centralisation103/main.ipynb#X31sZmlsZQ%3D%3D?line=10'>11</a>\u001b[0m         \u001b[39mreturn\u001b[39;00m store_data_df_2\n\u001b[1;32m---> <a href='vscode-notebook-cell:/c%3A/Users/Solen/Adam%27s%20Ai-Core%20Files/multinational-retail-data-centralisation103/main.ipynb#X31sZmlsZQ%3D%3D?line=12'>13</a>\u001b[0m retrieve_stores_data_2()\n",
      "\u001b[1;32mc:\\Users\\Solen\\Adam's Ai-Core Files\\multinational-retail-data-centralisation103\\main.ipynb Cell 23\u001b[0m line \u001b[0;36m1\n\u001b[0;32m      <a href='vscode-notebook-cell:/c%3A/Users/Solen/Adam%27s%20Ai-Core%20Files/multinational-retail-data-centralisation103/main.ipynb#X31sZmlsZQ%3D%3D?line=7'>8</a>\u001b[0m response \u001b[39m=\u001b[39m requests\u001b[39m.\u001b[39mget(url\u001b[39m=\u001b[39murl, headers\u001b[39m=\u001b[39mheader)\n\u001b[0;32m      <a href='vscode-notebook-cell:/c%3A/Users/Solen/Adam%27s%20Ai-Core%20Files/multinational-retail-data-centralisation103/main.ipynb#X31sZmlsZQ%3D%3D?line=8'>9</a>\u001b[0m store_data_json_2 \u001b[39m=\u001b[39m response\u001b[39m.\u001b[39mjson()\n\u001b[1;32m---> <a href='vscode-notebook-cell:/c%3A/Users/Solen/Adam%27s%20Ai-Core%20Files/multinational-retail-data-centralisation103/main.ipynb#X31sZmlsZQ%3D%3D?line=9'>10</a>\u001b[0m store_data_df_2 \u001b[39m=\u001b[39m pd\u001b[39m.\u001b[39;49mjson_normalize(store_data_json_2)\n\u001b[0;32m     <a href='vscode-notebook-cell:/c%3A/Users/Solen/Adam%27s%20Ai-Core%20Files/multinational-retail-data-centralisation103/main.ipynb#X31sZmlsZQ%3D%3D?line=10'>11</a>\u001b[0m \u001b[39mreturn\u001b[39;00m store_data_df_2\n",
      "File \u001b[1;32mc:\\Users\\Solen\\Miniconda3\\Lib\\site-packages\\pandas\\io\\json\\_normalize.py:445\u001b[0m, in \u001b[0;36mjson_normalize\u001b[1;34m(data, record_path, meta, meta_prefix, record_prefix, errors, sep, max_level)\u001b[0m\n\u001b[0;32m    443\u001b[0m     data \u001b[39m=\u001b[39m \u001b[39mlist\u001b[39m(data)\n\u001b[0;32m    444\u001b[0m \u001b[39melse\u001b[39;00m:\n\u001b[1;32m--> 445\u001b[0m     \u001b[39mraise\u001b[39;00m \u001b[39mNotImplementedError\u001b[39;00m\n\u001b[0;32m    447\u001b[0m \u001b[39m# check to see if a simple recursive function is possible to\u001b[39;00m\n\u001b[0;32m    448\u001b[0m \u001b[39m# improve performance (see #15621) but only for cases such\u001b[39;00m\n\u001b[0;32m    449\u001b[0m \u001b[39m# as pd.Dataframe(data) or pd.Dataframe(data, sep)\u001b[39;00m\n\u001b[0;32m    450\u001b[0m \u001b[39mif\u001b[39;00m (\n\u001b[0;32m    451\u001b[0m     record_path \u001b[39mis\u001b[39;00m \u001b[39mNone\u001b[39;00m\n\u001b[0;32m    452\u001b[0m     \u001b[39mand\u001b[39;00m meta \u001b[39mis\u001b[39;00m \u001b[39mNone\u001b[39;00m\n\u001b[1;32m   (...)\u001b[0m\n\u001b[0;32m    455\u001b[0m     \u001b[39mand\u001b[39;00m max_level \u001b[39mis\u001b[39;00m \u001b[39mNone\u001b[39;00m\n\u001b[0;32m    456\u001b[0m ):\n",
      "\u001b[1;31mNotImplementedError\u001b[0m: "
     ]
    }
   ],
   "source": [
    "import store_header\n",
    "import requests\n",
    "\n",
    "def retrieve_stores_data_2(header=store_header.header_dict):\n",
    "        my_list = list(range(451))\n",
    "        my_string = '&'.join(map(str, my_list))\n",
    "        url = \"https://aqj7u5id95.execute-api.eu-west-1.amazonaws.com/prod/store_details?index=1\"\n",
    "        response = requests.get(url=url, headers=header)\n",
    "        store_data_json_2 = response.json()\n",
    "        store_data_df_2 = pd.json_normalize(store_data_json_2)\n",
    "        return store_data_df_2\n",
    "\n",
    "retrieve_stores_data_2()"
   ]
  }
 ],
 "metadata": {
  "kernelspec": {
   "display_name": "base",
   "language": "python",
   "name": "python3"
  },
  "language_info": {
   "codemirror_mode": {
    "name": "ipython",
    "version": 3
   },
   "file_extension": ".py",
   "mimetype": "text/x-python",
   "name": "python",
   "nbconvert_exporter": "python",
   "pygments_lexer": "ipython3",
   "version": "3.11.5"
  }
 },
 "nbformat": 4,
 "nbformat_minor": 2
}
